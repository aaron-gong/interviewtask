{
 "cells": [
  {
   "cell_type": "code",
   "execution_count": 53,
   "id": "c4740c70",
   "metadata": {},
   "outputs": [],
   "source": [
    "import pandas as pd\n",
    "import matplotlib as plt\n",
    "%matplotlib inline"
   ]
  },
  {
   "cell_type": "markdown",
   "id": "d731875d",
   "metadata": {},
   "source": [
    "# Visualising counts of 30+@3 clients"
   ]
  },
  {
   "cell_type": "code",
   "execution_count": 104,
   "id": "b689d2fa",
   "metadata": {},
   "outputs": [],
   "source": [
    "#importing credit scores of 30+@3 clients\n",
    "df = pd.read_csv(\"Credit Score.csv\")"
   ]
  },
  {
   "cell_type": "code",
   "execution_count": 105,
   "id": "f0391e99",
   "metadata": {},
   "outputs": [],
   "source": [
    "credit_scores = df[\"Credit Score\"]"
   ]
  },
  {
   "cell_type": "code",
   "execution_count": 106,
   "id": "c4374560",
   "metadata": {},
   "outputs": [],
   "source": [
    "#writing a function to assign scores into buckets. buckets are based off STDEVS of clients who were funded\n",
    "def credit_score_bracket(row):\n",
    "    credit_score = row[1]\n",
    "    credit = row[1]\n",
    "    if credit < 915:\n",
    "        return \"Very Bad\"\n",
    "    elif credit >= 915 and credit < 1136:\n",
    "        return \"Bad\"\n",
    "    elif credit >= 1136 and credit < 1357:\n",
    "        return \"Below Average\"\n",
    "    elif credit >= 1357 and credit < 1578:\n",
    "        return \"Above Average\"\n",
    "    elif credit >= 1578 and credit < 1799:\n",
    "        return \"Good\"\n",
    "    else:\n",
    "        return \"Outstanding\"\n",
    "    \n",
    "brackets = df.apply(credit_score_bracket, axis = 1)"
   ]
  },
  {
   "cell_type": "code",
   "execution_count": 107,
   "id": "8a132c6d",
   "metadata": {},
   "outputs": [],
   "source": [
    "#inserting result of function as a column in dataframe\n",
    "df.insert(loc = 2, column = \"Credit Score Bracket\", value = brackets, allow_duplicates = True)"
   ]
  },
  {
   "cell_type": "code",
   "execution_count": 108,
   "id": "92a9722a",
   "metadata": {
    "scrolled": false
   },
   "outputs": [],
   "source": [
    "#cleaning unnecessary column\n",
    "df = df.drop(labels = \"RecordID\", axis = 1)"
   ]
  },
  {
   "cell_type": "code",
   "execution_count": 109,
   "id": "5185296b",
   "metadata": {},
   "outputs": [],
   "source": [
    "#creating two series for visualisation, one with value counts.\n",
    "s1 = df[\"Credit Score Bracket\"].value_counts(sort = False).reindex([\"Very Bad\", \"Bad\", \"Below Average\", \"Above Average\"])"
   ]
  },
  {
   "cell_type": "code",
   "execution_count": 110,
   "id": "1486a488",
   "metadata": {},
   "outputs": [],
   "source": [
    "# Since no \"good\" or \"outstanding\" clients were 3 month defaulters, separate Series was created for visualisation clarity. \n",
    "s2 = pd.Series(data = {\"Good\":0, \"Outstanding\":0})"
   ]
  },
  {
   "cell_type": "code",
   "execution_count": 111,
   "id": "602f1d3c",
   "metadata": {
    "scrolled": false
   },
   "outputs": [],
   "source": [
    "credit_score_buckets_counts = pd.concat([s1, s2])"
   ]
  },
  {
   "cell_type": "code",
   "execution_count": 112,
   "id": "1ac5bb2a",
   "metadata": {},
   "outputs": [
    {
     "data": {
      "text/plain": [
       "<AxesSubplot:>"
      ]
     },
     "execution_count": 112,
     "metadata": {},
     "output_type": "execute_result"
    },
    {
     "data": {
      "image/png": "[encoded data removed]",
      "text/plain": [
       "<Figure size 432x288 with 1 Axes>"
      ]
     },
     "metadata": {
      "needs_background": "light"
     },
     "output_type": "display_data"
    }
   ],
   "source": [
    "#simple visualisation showing value count of 30+@3 clients per credit score bracket\n",
    "credit_score_buckets_counts.plot(kind = \"bar\")"
   ]
  },
  {
   "cell_type": "markdown",
   "id": "6f1a95e4",
   "metadata": {},
   "source": [
    "# Visualising 30+@3 Percentage for each Credit Bucket"
   ]
  },
  {
   "cell_type": "code",
   "execution_count": null,
   "id": "a894c767",
   "metadata": {},
   "outputs": [],
   "source": [
    "#import csv of total settled loans and their credit score\n",
    "df1 = pd.read_csv(\"Total Settled Loans Credit Score.csv\")"
   ]
  },
  {
   "cell_type": "code",
   "execution_count": 122,
   "id": "62bf286d",
   "metadata": {},
   "outputs": [],
   "source": [
    "# similiar function to divide into buckets\n",
    "def credit_score_bracket(row):\n",
    "    credit_score = row[1]\n",
    "    credit = row[1]\n",
    "    if credit < 915:\n",
    "        return \"Very Bad\"\n",
    "    elif credit >= 915 and credit < 1136:\n",
    "        return \"Bad\"\n",
    "    elif credit >= 1136 and credit < 1357:\n",
    "        return \"Below Average\"\n",
    "    elif credit >= 1357 and credit < 1578:\n",
    "        return \"Above Average\"\n",
    "    elif credit >= 1578 and credit < 1799:\n",
    "        return \"Good\"\n",
    "    else:\n",
    "        return \"Outstanding\"\n",
    "    \n",
    "brackets2 = df1.apply(credit_score_bracket, axis = 1)\n",
    "       "
   ]
  },
  {
   "cell_type": "code",
   "execution_count": 125,
   "id": "8b5b6330",
   "metadata": {},
   "outputs": [],
   "source": [
    "#inserting result into DF\n",
    "df1.insert(loc = 2, column = \"Credit Score Bracket\", value = brackets2, allow_duplicates = True)"
   ]
  },
  {
   "cell_type": "code",
   "execution_count": 127,
   "id": "6d657eb3",
   "metadata": {},
   "outputs": [],
   "source": [
    "#cleaning for readability\n",
    "df1 = df1.drop(labels = \"RecordID\", axis = 1)"
   ]
  },
  {
   "cell_type": "code",
   "execution_count": 131,
   "id": "e1b64af9",
   "metadata": {},
   "outputs": [],
   "source": [
    "#obtaining total counts for each credit score bracket\n",
    "total_counts = df1[\"Credit Score Bracket\"].value_counts().reindex([\"Very Bad\", \"Bad\", \"Below Average\", \"Above Average\", \"Good\", \"Outstanding\"])"
   ]
  },
  {
   "cell_type": "code",
   "execution_count": 200,
   "id": "9f39b9b0",
   "metadata": {},
   "outputs": [
    {
     "data": {
      "text/html": [
       "<div>\n",
       "<style scoped>\n",
       "    .dataframe tbody tr th:only-of-type {\n",
       "        vertical-align: middle;\n",
       "    }\n",
       "\n",
       "    .dataframe tbody tr th {\n",
       "        vertical-align: top;\n",
       "    }\n",
       "\n",
       "    .dataframe thead th {\n",
       "        text-align: right;\n",
       "    }\n",
       "</style>\n",
       "<table border=\"1\" class=\"dataframe\">\n",
       "  <thead>\n",
       "    <tr style=\"text-align: right;\">\n",
       "      <th></th>\n",
       "      <th>Defaults</th>\n",
       "      <th>Total Loans</th>\n",
       "    </tr>\n",
       "  </thead>\n",
       "  <tbody>\n",
       "    <tr>\n",
       "      <th>Very Bad</th>\n",
       "      <td>1</td>\n",
       "      <td>45</td>\n",
       "    </tr>\n",
       "    <tr>\n",
       "      <th>Bad</th>\n",
       "      <td>12</td>\n",
       "      <td>881</td>\n",
       "    </tr>\n",
       "    <tr>\n",
       "      <th>Below Average</th>\n",
       "      <td>12</td>\n",
       "      <td>1721</td>\n",
       "    </tr>\n",
       "    <tr>\n",
       "      <th>Above Average</th>\n",
       "      <td>3</td>\n",
       "      <td>1770</td>\n",
       "    </tr>\n",
       "    <tr>\n",
       "      <th>Good</th>\n",
       "      <td>0</td>\n",
       "      <td>832</td>\n",
       "    </tr>\n",
       "    <tr>\n",
       "      <th>Outstanding</th>\n",
       "      <td>0</td>\n",
       "      <td>107</td>\n",
       "    </tr>\n",
       "  </tbody>\n",
       "</table>\n",
       "</div>"
      ],
      "text/plain": [
       "               Defaults  Total Loans\n",
       "Very Bad              1           45\n",
       "Bad                  12          881\n",
       "Below Average        12         1721\n",
       "Above Average         3         1770\n",
       "Good                  0          832\n",
       "Outstanding           0          107"
      ]
     },
     "execution_count": 200,
     "metadata": {},
     "output_type": "execute_result"
    }
   ],
   "source": [
    "#combining 30+@3 clients with total clients in each credit bucket\n",
    "df2 = pd.concat([credit_score_buckets_counts, total_counts], axis = 1)\n",
    "df2 = df2.rename(columns = {0:\"Defaults\", \"Credit Score Bracket\": \"Total Loans\"})\n",
    "df2"
   ]
  },
  {
   "cell_type": "code",
   "execution_count": 154,
   "id": "57c89f72",
   "metadata": {},
   "outputs": [],
   "source": [
    "#obtaining default percentage\n",
    "df2[\"percentage\"] = df2[\"Defaults\"] / df2[\"Total Loans\"]\n",
    "percent = df2[\"percentage\"]*100"
   ]
  },
  {
   "cell_type": "code",
   "execution_count": 161,
   "id": "ac627c1e",
   "metadata": {},
   "outputs": [
    {
     "data": {
      "text/plain": [
       "Very Bad         2.222222\n",
       "Bad              1.362089\n",
       "Below Average    0.697269\n",
       "Above Average    0.169492\n",
       "Good             0.000000\n",
       "Outstanding      0.000000\n",
       "Name: percentage, dtype: float64"
      ]
     },
     "execution_count": 161,
     "metadata": {},
     "output_type": "execute_result"
    }
   ],
   "source": [
    "percent"
   ]
  },
  {
   "cell_type": "code",
   "execution_count": 160,
   "id": "ba0ad881",
   "metadata": {},
   "outputs": [
    {
     "data": {
      "text/plain": [
       "<AxesSubplot:xlabel='Credit Bucket', ylabel='30+@3 Percentage'>"
      ]
     },
     "execution_count": 160,
     "metadata": {},
     "output_type": "execute_result"
    },
    {
     "data": {
      "image/png": "[encoded data removed]",
      "text/plain": [
       "<Figure size 432x288 with 1 Axes>"
      ]
     },
     "metadata": {
      "needs_background": "light"
     },
     "output_type": "display_data"
    }
   ],
   "source": [
    "#visualise\n",
    "percent.plot(kind = \"bar\", xlabel = \"Credit Bucket\", ylabel = \"30+@3 Percentage\")"
   ]
  },
  {
   "cell_type": "markdown",
   "id": "f7902232",
   "metadata": {},
   "source": [
    "# 30+@3 per month"
   ]
  },
  {
   "cell_type": "code",
   "execution_count": 194,
   "id": "aaecd872",
   "metadata": {
    "scrolled": true
   },
   "outputs": [],
   "source": [
    "#import csv of data from SQL\n",
    "df2 = pd.read_csv(\"Months.csv\")"
   ]
  },
  {
   "cell_type": "code",
   "execution_count": 195,
   "id": "736a8ebd",
   "metadata": {},
   "outputs": [],
   "source": [
    "#remove day for better readability\n",
    "df2[\"loan_settlement_month\"] = df2[\"loan_settlement_month\"].str[:-3]"
   ]
  },
  {
   "cell_type": "code",
   "execution_count": 196,
   "id": "8099cc91",
   "metadata": {},
   "outputs": [],
   "source": [
    "#find value counts per month\n",
    "month = df2[\"loan_settlement_month\"].value_counts().sort_index()"
   ]
  },
  {
   "cell_type": "code",
   "execution_count": 197,
   "id": "f969a4f1",
   "metadata": {},
   "outputs": [
    {
     "data": {
      "text/plain": [
       "<AxesSubplot:xlabel='Month', ylabel='30+@3 count'>"
      ]
     },
     "execution_count": 197,
     "metadata": {},
     "output_type": "execute_result"
    },
    {
     "data": {
      "image/png": "[encoded data removed]",
      "text/plain": [
       "<Figure size 432x288 with 1 Axes>"
      ]
     },
     "metadata": {
      "needs_background": "light"
     },
     "output_type": "display_data"
    }
   ],
   "source": [
    "#visualise\n",
    "month.plot(kind = \"bar\", xlabel = \"Month\", ylabel = \"30+@3 count\")"
   ]
  },
  {
   "cell_type": "code",
   "execution_count": null,
   "id": "9bc6ec54",
   "metadata": {},
   "outputs": [],
   "source": []
  }
 ],
 "metadata": {
  "kernelspec": {
   "display_name": "Python 3 (ipykernel)",
   "language": "python",
   "name": "python3"
  },
  "language_info": {
   "codemirror_mode": {
    "name": "ipython",
    "version": 3
   },
   "file_extension": ".py",
   "mimetype": "text/x-python",
   "name": "python",
   "nbconvert_exporter": "python",
   "pygments_lexer": "ipython3",
   "version": "3.10.4"
  }
 },
 "nbformat": 4,
 "nbformat_minor": 5
}
